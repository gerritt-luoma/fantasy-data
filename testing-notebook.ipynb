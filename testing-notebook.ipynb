{
 "cells": [
  {
   "cell_type": "markdown",
   "metadata": {},
   "source": [
    "# Testing Notebook\n",
    "## Ideas for this notebook\n",
    "- Using [PFR's](https://www.pro-football-reference.com/) data and beautiful soup, I was planning to download the stats from the 2021 NFL season to get a few insights into fantasy football trends\n",
    "- Some stats I want to see:\n",
    "  - Percentage of team target share per player (RB, TE, WR)\n",
    "  - A correlation between target share and fantasy points\n",
    "  - Team play breakdowns\n",
    "    - Rushing, Passing, Punting, Kicking\n",
    "    - Ratio of offensive and defensive plays\n",
    "  - **TODO:** As ideas come, add them to list"
   ]
  },
  {
   "cell_type": "code",
   "execution_count": 2,
   "metadata": {},
   "outputs": [],
   "source": [
    "import numpy as np\n",
    "import pandas as pd"
   ]
  },
  {
   "cell_type": "code",
   "execution_count": null,
   "metadata": {},
   "outputs": [],
   "source": []
  }
 ],
 "metadata": {
  "kernelspec": {
   "display_name": "Python 3.10.5 ('venv': venv)",
   "language": "python",
   "name": "python3"
  },
  "language_info": {
   "codemirror_mode": {
    "name": "ipython",
    "version": 3
   },
   "file_extension": ".py",
   "mimetype": "text/x-python",
   "name": "python",
   "nbconvert_exporter": "python",
   "pygments_lexer": "ipython3",
   "version": "3.10.5"
  },
  "orig_nbformat": 4,
  "vscode": {
   "interpreter": {
    "hash": "e77a8fc4d9600e5a09b1d84ce21c966464d879c81e4729772d40087088f55972"
   }
  }
 },
 "nbformat": 4,
 "nbformat_minor": 2
}
