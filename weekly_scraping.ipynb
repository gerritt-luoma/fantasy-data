{
 "cells": [
  {
   "cell_type": "markdown",
   "metadata": {},
   "source": [
    "# Scraping stats of each week\n",
    "\n",
    "## Process\n",
    "- The process of scraping each week of data is fairly straight forward:\n",
    "1. Hit the weekly URL Tuesday morning at 1 am: `https://www.pro-football-reference.com/years/{year}/week_{week number}.htm`\n",
    "2. Turn the content of the weekly page into some beautiful soup\n",
    "3. Find the list of all games that week\n",
    "4. For all games in the week, hit the `Final` URL: `https://www.pro-football-reference.com/boxscores/{id}.htm`\n",
    "5. Turn the game content into some beautiful soup\n",
    "6. Parse the `Passing, Rushing, & Receiving` table\n",
    "7. Parse the `Advanced passing` table\n",
    "8. Parse the `Advanced rushing` table\n",
    "9. Parse the `Advanced receiving` table\n",
    "10. Parse the `Snap Counts` table for all offensive player snaps > 0\n",
    "11. For each player, save to DB"
   ]
  },
  {
   "cell_type": "markdown",
   "metadata": {},
   "source": []
  }
 ],
 "metadata": {
  "kernelspec": {
   "display_name": "Python 3.10.5 ('venv': venv)",
   "language": "python",
   "name": "python3"
  },
  "language_info": {
   "name": "python",
   "version": "3.10.5"
  },
  "orig_nbformat": 4,
  "vscode": {
   "interpreter": {
    "hash": "e77a8fc4d9600e5a09b1d84ce21c966464d879c81e4729772d40087088f55972"
   }
  }
 },
 "nbformat": 4,
 "nbformat_minor": 2
}
