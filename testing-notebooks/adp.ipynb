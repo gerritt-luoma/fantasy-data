{
 "cells": [
  {
   "cell_type": "markdown",
   "metadata": {},
   "source": [
    "# ADP Grabber"
   ]
  },
  {
   "cell_type": "code",
   "execution_count": 1,
   "metadata": {},
   "outputs": [],
   "source": [
    "from bs4 import BeautifulSoup\n",
    "import requests\n",
    "import json"
   ]
  },
  {
   "cell_type": "code",
   "execution_count": 2,
   "metadata": {},
   "outputs": [],
   "source": [
    "url = 'https://fantasy.espn.com/football/livedraftresults'\n",
    "hiddenUrl = 'https://fantasy.espn.com/apis/v3/games/ffl/seasons/2022/segments/0/leaguedefaults/3?scoringPeriodId=0&view=kona_player_info'\n",
    "headers = {\n",
    "    \"x-fantasy-filter\": json.dumps({\"players\":{\"filterSlotIds\":{\"value\":[0,1,2,3,4,5,6,7,8,9,10,11,12,13,14,15,16,17,18,19,23,24]},\"limit\":200,\"offset\":0,\"sortAdp\":{\"sortAsc\":\"true\",\"sortPriority\":1},\"sortDraftRanks\":{\"sortPriority\":100,\"sortAsc\":\"true\",\"value\":\"STANDARD\"},\"filterRanksForScoringPeriodIds\":{\"value\":[1]},\"filterRanksForRankTypes\":{\"value\":[\"PPR\"]},\"filterRanksForSlotIds\":{\"value\":[0,2,4,6,17,16]},\"filterStatsForTopScoringPeriodIds\":{\"value\":2,\"additionalValue\":[\"002022\",\"102022\",\"002021\",\"022022\"]}}})\n",
    "}\n",
    "res = requests.get(hiddenUrl, headers=headers)"
   ]
  },
  {
   "cell_type": "code",
   "execution_count": 3,
   "metadata": {},
   "outputs": [
    {
     "name": "stdout",
     "output_type": "stream",
     "text": [
      "{'active': True, 'defaultPositionId': 2, 'draftRanksByRankType': {'STANDARD': {'auctionValue': 61, 'published': False, 'rank': 1, 'rankSourceId': 0, 'rankType': 'STANDARD', 'slotId': 0}, 'PPR': {'auctionValue': 61, 'published': False, 'rank': 1, 'rankSourceId': 0, 'rankType': 'PPR', 'slotId': 0}}, 'droppable': False, 'eligibleSlots': [2, 3, 23, 7, 20, 21], 'firstName': 'Jonathan', 'fullName': 'Jonathan Taylor', 'id': 4242335, 'injured': False, 'injuryStatus': 'ACTIVE', 'jersey': '28', 'lastName': 'Taylor', 'lastNewsDate': 1661449131000, 'lastVideoDate': 1661401469000, 'ownership': {'activityLevel': None, 'auctionValueAverage': 63.79238357421427, 'auctionValueAverageChange': 3.6847521847254256, 'averageDraftPosition': 1.4217098504736903, 'averageDraftPositionPercentChange': 0.034288149151239455, 'date': 1661432421524, 'leagueType': 0, 'percentChange': 0.013616822722042343, 'percentOwned': 99.91231626716427, 'percentStarted': 99.63021400692678}, 'proTeamId': 11, 'rankings': {}, 'seasonOutlook': \"Taylor returns as the feature back in Indianapolis after leading the position in fantasy points, carries, yards and TDs during a breakout 2021 season. Taylor's season started and ended slowly (zero top-10 fantasy outings during Weeks 1-3 and 16-18), but it was as good as it gets in the middle (11 straight top-10s during Weeks 4-15). Taylor found the end zone 20 times and his 26 carries inside the opponent's 5-yard line were the most the league had seen in a single season since 2012. An uptick in passing-game work would be nice (unlikely with Nyheim Hines in the mix), but Taylor's age (23), massive usage in a run-heavy offense and top-end efficiency are plenty enough to allow continued elite production. He should be the first pick in 2022 fantasy drafts.\", 'stats': [{'appliedTotal': 12.5, 'externalId': '401326591', 'id': '01401326591', 'proTeamId': 11, 'scoringPeriodId': 18, 'seasonId': 2021, 'statSourceId': 0, 'statSplitTypeId': 1, 'stats': {'23': 15.0, '24': 77.0, '27': 15.0, '28': 7.0, '29': 3.0, '30': 3.0, '31': 1.0, '33': 3.0, '34': 1.0, '39': 5.133, '40': 77.0, '41': 3.0, '42': 18.0, '47': 3.0, '48': 1.0, '53': 3.0, '58': 4.0, '59': 16.0, '60': 6.0, '61': 18.0, '156': 1.0, '210': 1.0}}, {'appliedTotal': 18.4, 'externalId': '401326573', 'id': '01401326573', 'proTeamId': 11, 'scoringPeriodId': 17, 'seasonId': 2021, 'statSourceId': 0, 'statSplitTypeId': 1, 'stats': {'23': 20.0, '24': 108.0, '25': 1.0, '27': 21.0, '28': 10.0, '29': 5.0, '30': 4.0, '31': 2.0, '32': 1.0, '33': 4.0, '34': 2.0, '37': 1.0, '39': 5.4, '40': 108.0, '41': 1.0, '42': 6.0, '47': 1.0, '53': 1.0, '58': 2.0, '59': 4.0, '60': 6.0, '61': 6.0, '156': 1.0, '158': 6.0, '179': 1.0, '210': 1.0}}, {'appliedAverage': 21.013317525599998, 'appliedTotal': 315.199762884, 'externalId': '2022', 'id': '102022', 'proTeamId': 0, 'scoringPeriodId': 0, 'seasonId': 2022, 'statSourceId': 1, 'statSplitTypeId': 0, 'stats': {'23': 306.3235213, '24': 1493.1165, '25': 13.34769195, '26': 0.534615931, '27': 298.0, '28': 149.0, '29': 74.0, '30': 59.0, '31': 29.0, '33': 61.0, '34': 30.0, '35': 0.655835396, '36': 0.459084777, '37': 5.779708829, '38': 0.197239288, '39': 4.874312276, '40': 98.76646111, '42': 350.5982135, '43': 1.519784566, '44': 0.091936728, '45': 0.069376657, '46': 0.045337645, '47': 70.0, '48': 35.0, '49': 17.0, '50': 14.0, '51': 7.0, '53': 43.11290333, '54': 8.0, '55': 4.0, '56': 0.167575519, '57': 0.005182748, '58': 55.21653756, '60': 8.132094721, '61': 23.19132152, '62': 0.626552659, '63': 0.0131, '66': 2.617939776, '67': 0.3684568, '68': 2.986396577, '70': 1.204252297, '71': 0.206335808, '72': 1.410588105, '73': 1.410588105, '210': 15.11764706}}, {'appliedAverage': 21.947058823529414, 'appliedTotal': 373.1, 'externalId': '2021', 'id': '002021', 'proTeamId': 0, 'scoringPeriodId': 0, 'seasonId': 2021, 'statSourceId': 0, 'statSplitTypeId': 0, 'stats': {'23': 332.0, '24': 1811.0, '25': 18.0, '27': 356.0, '28': 174.0, '29': 83.0, '30': 65.0, '31': 30.0, '32': 10.0, '33': 61.0, '34': 25.0, '35': 2.0, '36': 2.0, '37': 10.0, '39': 5.45481928, '40': 106.52941176, '41': 40.0, '42': 360.0, '43': 2.0, '45': 1.0, '46': 1.0, '47': 66.0, '48': 30.0, '49': 11.0, '50': 9.0, '51': 4.0, '52': 1.0, '53': 40.0, '54': 2.0, '56': 1.0, '58': 51.0, '59': 406.0, '60': 9.0, '61': 21.17647059, '66': 3.0, '67': 1.0, '68': 4.0, '70': 2.0, '72': 2.0, '73': 2.0, '155': 9.0, '156': 8.0, '158': 120.0, '179': 12.0, '180': 2.0, '181': 2.0, '185': 1.0, '210': 17.0}}, {'appliedAverage': 0.0, 'appliedTotal': 0.0, 'externalId': '2022', 'id': '002022', 'proTeamId': 0, 'scoringPeriodId': 0, 'seasonId': 2022, 'statSourceId': 0, 'statSplitTypeId': 0, 'stats': {}}]}\n"
     ]
    }
   ],
   "source": [
    "print(res.json()['players'][0]['player'])"
   ]
  },
  {
   "cell_type": "code",
   "execution_count": 4,
   "metadata": {},
   "outputs": [],
   "source": [
    "with open('../data/ESPN-ADP.md', 'w') as file:\n",
    "    file.write(\"# ESPN PPR ADP\\n\")\n",
    "    count = 1\n",
    "    for player in res.json()['players']:\n",
    "        if count % 10 == 1:\n",
    "            roundCount = int(count/10) + 1\n",
    "            file.write(f'## Round {roundCount}\\n')\n",
    "        player = player['player']\n",
    "\n",
    "        name = player['fullName']\n",
    "        adp = round(float(player['ownership']['averageDraftPosition']), 3)\n",
    "\n",
    "        file.write(f'1. {name} - ({adp})\\n')\n",
    "        count += 1\n",
    "    file.close()"
   ]
  },
  {
   "cell_type": "code",
   "execution_count": null,
   "metadata": {},
   "outputs": [],
   "source": []
  }
 ],
 "metadata": {
  "kernelspec": {
   "display_name": "Python 3.10.5 ('venv': venv)",
   "language": "python",
   "name": "python3"
  },
  "language_info": {
   "codemirror_mode": {
    "name": "ipython",
    "version": 3
   },
   "file_extension": ".py",
   "mimetype": "text/x-python",
   "name": "python",
   "nbconvert_exporter": "python",
   "pygments_lexer": "ipython3",
   "version": "3.10.5"
  },
  "orig_nbformat": 4,
  "vscode": {
   "interpreter": {
    "hash": "e77a8fc4d9600e5a09b1d84ce21c966464d879c81e4729772d40087088f55972"
   }
  }
 },
 "nbformat": 4,
 "nbformat_minor": 2
}
